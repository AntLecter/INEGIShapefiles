{
 "cells": [
  {
   "cell_type": "markdown",
   "metadata": {},
   "source": [
    "## Tarea\n",
    "\n",
    "Importa las librerías necesarias para resolver los siguientes ejercicios (no necesitaras ninguna que no hayamos utilizado nosotros)"
   ]
  },
  {
   "cell_type": "code",
   "execution_count": null,
   "metadata": {},
   "outputs": [],
   "source": [
    "import geopandas as gpd \n",
    "import pandas as pd\n",
    "import matplotlib.pyplot as plt\n",
    "import re\n",
    "import matplotlib.patches as mpatches\n",
    "from shapely.ops import nearest_points"
   ]
  },
  {
   "cell_type": "markdown",
   "metadata": {},
   "source": [
    "#### 1.\n",
    "Grafica la división estatal de México (usando el shapefile que usamos en la clase) en diferentes tonos de algún color que elijas. Pintalos según su área. Los estados más oscuros siendo los más grandes"
   ]
  },
  {
   "cell_type": "code",
   "execution_count": 2,
   "metadata": {},
   "outputs": [
    {
     "ename": "NameError",
     "evalue": "name 'gpd' is not defined",
     "output_type": "error",
     "traceback": [
      "\u001b[0;31m---------------------------------------------------------------------------\u001b[0m",
      "\u001b[0;31mNameError\u001b[0m                                 Traceback (most recent call last)",
      "Cell \u001b[0;32mIn[2], line 2\u001b[0m\n\u001b[1;32m      1\u001b[0m \u001b[38;5;66;03m# Cargar el Shapefile\u001b[39;00m\n\u001b[0;32m----> 2\u001b[0m gdf \u001b[38;5;241m=\u001b[39m \u001b[43mgpd\u001b[49m\u001b[38;5;241m.\u001b[39mread_file(\u001b[38;5;124m\"\u001b[39m\u001b[38;5;124mEstados/conjunto_de_datos/00ent.shp\u001b[39m\u001b[38;5;124m\"\u001b[39m)\n\u001b[1;32m      4\u001b[0m \u001b[38;5;66;03m# Calcular el área de cada estado y añadirlo como una nueva columna\u001b[39;00m\n\u001b[1;32m      5\u001b[0m gdf[\u001b[38;5;124m'\u001b[39m\u001b[38;5;124marea\u001b[39m\u001b[38;5;124m'\u001b[39m] \u001b[38;5;241m=\u001b[39m gdf[\u001b[38;5;124m'\u001b[39m\u001b[38;5;124mgeometry\u001b[39m\u001b[38;5;124m'\u001b[39m]\u001b[38;5;241m.\u001b[39marea\n",
      "\u001b[0;31mNameError\u001b[0m: name 'gpd' is not defined"
     ]
    }
   ],
   "source": [
    "# Cargar el Shapefile\n",
    "gdf = gpd.read_file(\"/usr/src/app/Estados/conjunto_de_datos/00ent.shp\")\n",
    "\n",
    "# Calcular el área de cada estado y añadirlo como una nueva columna\n",
    "gdf['area'] = gdf['geometry'].area\n",
    "\n",
    "# Normalizar el área para que los colores varíen entre un rango específico\n",
    "gdf['area_norm'] = (gdf['area'] - gdf['area'].min()) / (gdf['area'].max() - gdf['area'].min())\n",
    "\n",
    "# Graficar usando un mapa de colores que varía según el área\n",
    "fig, ax = plt.subplots(1, 1, figsize=(10, 10))\n",
    "gdf.plot(column='area_norm', cmap='Blues', linewidth=0.8, ax=ax, edgecolor='0.8')\n",
    "\n",
    "# Eliminar los ejes para una visualización más limpia\n",
    "ax.set_axis_off()\n",
    "\n",
    "# Mostrar el mapa\n",
    "plt.show()\n"
   ]
  },
  {
   "cell_type": "markdown",
   "metadata": {},
   "source": [
    "#### 2.\n",
    "Crea un área de 5km alrededor de cada escuela. Calcula el área total cubierta y saca el porcentaje de área del país cubierta por escuelas.\n",
    "Tip: cuidado con las intersecciones y las unidades!"
   ]
  },
  {
   "cell_type": "code",
   "execution_count": null,
   "metadata": {},
   "outputs": [],
   "source": [
    "# Paso 1: Cargar el Shapefile de las escuelas\n",
    "escuelas_gdf = gpd.read_file(\"./Escuelas/conjunto_de_datos/denue_inegi_61_.shp\")\n",
    "\n",
    "# Paso 2: Crear un buffer de 5 km alrededor de cada escuela\n",
    "# Asegúrate de que el CRS (Sistema de Referencia de Coordenadas) sea adecuado para medidas de distancia en metros\n",
    "escuelas_gdf = escuelas_gdf.to_crs(epsg=6362)  # Cambia el EPSG según tu zona\n",
    "escuelas_gdf['buffer'] = escuelas_gdf['geometry'].buffer(5000)  # 5000 metros = 5 km\n",
    "\n",
    "# Paso 3: Fusionar buffers superpuestos usando la operación de disolución\n",
    "buffers_union = escuelas_gdf['buffer'].unary_union\n",
    "\n",
    "# Paso 4: Calcular el área total ocupada por los buffers\n",
    "total_area_escuelas = buffers_union.area  # El área estará en metros cuadrados si el CRS está en metros\n",
    "\n",
    "# Paso 5: Comparar con el área total del país\n",
    "# Paso 1: Cargar el Shapefile de los estados\n",
    "estados_gdf = gpd.read_file(\"Estados/conjunto_de_datos/00ent.shp\")\n",
    "\n",
    "# Paso 2: Asegurarse de que el CRS sea adecuado para medidas de distancia en metros\n",
    "# El CRS dependerá de los datos; aquí se usa un ejemplo genérico.\n",
    "estados_gdf = estados_gdf.to_crs(epsg=6362)  # Cambia el EPSG según tu zona\n",
    "\n",
    "# Calcular el área de cada estado\n",
    "estados_gdf['area'] = estados_gdf['geometry'].area\n",
    "\n",
    "# Paso 3: Sumar las áreas de todos los estados para obtener el área total del país\n",
    "area_total_pais = estados_gdf['area'].sum()\n",
    "\n",
    "# Imprimir resultados\n",
    "print(f\"Área total ocupada por las escuelas (con buffers de 5 km): {total_area_escuelas} m²\")\n",
    "print(f\"Área total del país: {area_total_pais} m²\")\n",
    "print(f\"Porcentaje del área ocupada por escuelas: {(total_area_escuelas / area_total_pais) * 100:.4f}%\")\n"
   ]
  },
  {
   "cell_type": "markdown",
   "metadata": {},
   "source": [
    "#### 3.\n",
    "Calcula la distancia entre la CDMX y todos los demás estados de la república. \n",
    "Bonus: punto extra si lo haces usando las fronteras y no los centroides."
   ]
  },
  {
   "cell_type": "markdown",
   "metadata": {},
   "source": [
    "### Nota importante \n",
    "\n",
    "Función distance de Shapely\n",
    "La función distance calcula la distancia euclidiana mínima entre los bordes de dos objetos geométricos. En el contexto de los estados y la Ciudad de México, hace lo siguiente:\n",
    "\n",
    "Argumentos: Toma dos objetos de tipo Shapely.geometry. En este caso, un objeto es la geometría de un estado y el otro es la geometría de la Ciudad de México.\n",
    "\n",
    "Proceso: Encuentra los puntos más cercanos entre las dos geometrías proporcionadas, es decir, los puntos que tienen la menor distancia euclidiana entre ellos. Estos puntos pueden estar en el borde o en algún punto interno de las geometrías, dependiendo de sus formas.\n",
    "\n",
    "Resultado: Devuelve la distancia en las unidades del sistema de referencia de coordenadas (CRS) actual del GeoDataFrame. Si el CRS está configurado para medir en metros, la distancia será en metros."
   ]
  },
  {
   "cell_type": "code",
   "execution_count": null,
   "metadata": {},
   "outputs": [],
   "source": [
    "#Primero ver donde esta el nombre de los estados\n",
    "print(estados_gdf.columns)\n",
    "# Paso 2: Identificar la geometría de la Ciudad de México\n",
    "cdmx_geometry = estados_gdf.loc[estados_gdf['NOMGEO'] == 'Ciudad de México', 'geometry'].squeeze()\n",
    "\n",
    "# Paso 3: Calcular la distancia más corta de cada estado a la Ciudad de México\n",
    "estados_gdf['distancia_a_cdmx'] = estados_gdf['geometry'].apply(lambda x: x.distance(cdmx_geometry))\n",
    "\n",
    "# Imprimir las distancias\n",
    "for estado, distancia in zip(estados_gdf['NOMGEO'], estados_gdf['distancia_a_cdmx']):\n",
    "    print(f\"Distancia de {estado} a Ciudad de México: {distancia:.2f} metros\")\n"
   ]
  },
  {
   "cell_type": "markdown",
   "metadata": {},
   "source": [
    "#### 4.\n",
    "Metete al INEGI y descarga el shapefile de nombre \"Servicios profesionales, científicos y técnicos\" de 2023 (más info en el READ ME y en la presentación). Grafica las escuelas (sólo las primarias, secundarias y prepas), y los servicios que se muestran en este shapefile (las escuelas de un color y los servicios de otro). También grafica los estados. Comenta si ves alguna relación entre la localización de estas escuelas y los servicios."
   ]
  },
  {
   "cell_type": "code",
   "execution_count": null,
   "metadata": {},
   "outputs": [],
   "source": [
    "servicios = gpd.read_file(\"/usr/src/app/Servicios/conjunto_de_datos/denue_inegi_54_.shp\")"
   ]
  },
  {
   "cell_type": "code",
   "execution_count": null,
   "metadata": {},
   "outputs": [],
   "source": [
    "servicios = gpd.read_file(\"/usr/src/app/Servicios/conjunto_de_datos/denue_inegi_54_.shp\")\n",
    "\n",
    "print(servicios.head())"
   ]
  },
  {
   "cell_type": "code",
   "execution_count": null,
   "metadata": {},
   "outputs": [],
   "source": [
    "servicios = servicios.to_crs(estados_gdf.crs)"
   ]
  },
  {
   "cell_type": "code",
   "execution_count": null,
   "metadata": {},
   "outputs": [],
   "source": [
    "# Regex para clasificar las escuelas\n",
    "regex_escuelas = r\"(?i)(primaria|escuela básica|escuela elemental|secundaria|escuela media|educación media|preparatoria|bachillerato|prepa|colegio)\"\n",
    "\n",
    "# Filtrar las escuelas que cumplen con el regex\n",
    "escuelas_gdf_filtrado = escuelas_gdf[escuelas_gdf['nom_estab'].str.contains(regex_escuelas, na=False)]\n",
    "\n",
    "# Configurar la figura y el eje para el plot\n",
    "fig, ax = plt.subplots(figsize=(10, 10))\n",
    "\n",
    "# Dibujar el mapa de los estados\n",
    "estados_gdf.plot(ax=ax, color='white', edgecolor='black')\n",
    "\n",
    "# Dibujar las escuelas filtradas\n",
    "escuelas_gdf_filtrado.plot(ax=ax, color='limegreen', markersize=10, label='Escuelas')\n",
    "\n",
    "# Dibujar los servicios\n",
    "servicios.plot(ax=ax, color='red', markersize=10, label='Servicios')\n",
    "\n",
    "# Configurar leyenda y otros elementos del gráfico\n",
    "plt.legend(title='Categorías')\n",
    "plt.title('Distribución de Escuelas y Servicios en México')\n",
    "plt.xlabel('Longitud')\n",
    "plt.ylabel('Latitud')\n",
    "plt.grid(True)\n",
    "\n",
    "# Mostrar el mapa\n",
    "plt.show()\n",
    "\n",
    "# Ver las primeras filas del DataFrame filtrado para confirmar\n",
    "print(escuelas_gdf_filtrado.head())\n",
    "\n",
    "# Contar cuántas filas cumplen con el criterio\n",
    "print(f\"Número de filas que cumplen con el criterio de escuelas: {len(escuelas_gdf_filtrado)}\")"
   ]
  },
  {
   "cell_type": "markdown",
   "metadata": {},
   "source": [
    "### Para Carla:\n",
    "\n",
    "Como podemos ver el Norte no tiene nada que hacer contra la capital del mundo Puebla. Obvservamos que el centro es donde se concentra la mayor cantidad de ambos. En resumen, Puebla es el wakanda de Mexico"
   ]
  }
 ],
 "metadata": {
  "kernelspec": {
   "display_name": ".venv",
   "language": "python",
   "name": "python3"
  },
  "language_info": {
   "codemirror_mode": {
    "name": "ipython",
    "version": 3
   },
   "file_extension": ".py",
   "mimetype": "text/x-python",
   "name": "python",
   "nbconvert_exporter": "python",
   "pygments_lexer": "ipython3",
   "version": "3.10.12"
  },
  "orig_nbformat": 4
 },
 "nbformat": 4,
 "nbformat_minor": 2
}
